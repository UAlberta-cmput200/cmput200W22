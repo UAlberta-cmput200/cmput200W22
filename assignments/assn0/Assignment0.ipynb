{
 "cells": [
  {
   "cell_type": "code",
   "execution_count": 1,
   "metadata": {
    "deletable": false,
    "editable": false
   },
   "outputs": [],
   "source": [
    "# Initialize Otter\n",
    "import otter\n",
    "grader = otter.Notebook(\"Assignment0.ipynb\")"
   ]
  },
  {
   "cell_type": "markdown",
   "metadata": {},
   "source": [
    "# CMPUT 200 Winter 2022\n",
    "# Assignment 0"
   ]
  },
  {
   "cell_type": "markdown",
   "metadata": {
    "id": "wZYSCsMz1QR4"
   },
   "source": [
    "Each assignment will be distributed as a notebook such as this one.  You will execute the questions in the notebook.  The questions might ask for a short answer in text form or for you to write and execute a piece of code. \n",
    "For short answer questions you must enter your answer in the provided space.  For coding questions you must use the provided space.  When you are done, you will submit your work from the notebook. At the end of this notebook there is an 'export' cell. Make sure to save your notebook before running it, and then submit on eClass the .zip file that it should make in your directory."
   ]
  },
  {
   "cell_type": "code",
   "execution_count": 2,
   "metadata": {
    "id": "ZfrPg4x30DDJ"
   },
   "outputs": [
    {
     "name": "stdout",
     "output_type": "stream",
     "text": [
      "\u001b[33mDEPRECATION: Configuring installation scheme with distutils config files is deprecated and will no longer work in the near future. If you are using a Homebrew or Linuxbrew Python, please see discussion at https://github.com/Homebrew/homebrew-core/issues/76621\u001b[0m\n",
      "Requirement already satisfied: pandas in /opt/homebrew/lib/python3.9/site-packages (from -r requirements.txt (line 1)) (1.3.4)\n",
      "Requirement already satisfied: numpy in /opt/homebrew/lib/python3.9/site-packages (from -r requirements.txt (line 2)) (1.21.2)\n",
      "Requirement already satisfied: scipy in /opt/homebrew/lib/python3.9/site-packages (from -r requirements.txt (line 3)) (1.7.3)\n",
      "Requirement already satisfied: otter-grader in /opt/homebrew/lib/python3.9/site-packages (from -r requirements.txt (line 4)) (3.2.0)\n",
      "Requirement already satisfied: wkhtmltopdf in /opt/homebrew/lib/python3.9/site-packages (from -r requirements.txt (line 5)) (0.2)\n",
      "Requirement already satisfied: PyPDF2 in /opt/homebrew/lib/python3.9/site-packages (from -r requirements.txt (line 6)) (1.26.0)\n",
      "Requirement already satisfied: pdfkit in /opt/homebrew/lib/python3.9/site-packages (from -r requirements.txt (line 7)) (1.0.0)\n",
      "Requirement already satisfied: python-dateutil>=2.7.3 in /opt/homebrew/lib/python3.9/site-packages (from pandas->-r requirements.txt (line 1)) (2.8.2)\n",
      "Requirement already satisfied: pytz>=2017.3 in /opt/homebrew/lib/python3.9/site-packages (from pandas->-r requirements.txt (line 1)) (2021.3)\n",
      "Requirement already satisfied: six in /opt/homebrew/lib/python3.9/site-packages (from otter-grader->-r requirements.txt (line 4)) (1.16.0)\n",
      "Requirement already satisfied: jinja2 in /opt/homebrew/lib/python3.9/site-packages (from otter-grader->-r requirements.txt (line 4)) (3.0.3)\n",
      "Requirement already satisfied: dill in /opt/homebrew/lib/python3.9/site-packages (from otter-grader->-r requirements.txt (line 4)) (0.3.4)\n",
      "Requirement already satisfied: requests in /opt/homebrew/lib/python3.9/site-packages (from otter-grader->-r requirements.txt (line 4)) (2.26.0)\n",
      "Requirement already satisfied: jupyter-client in /opt/homebrew/lib/python3.9/site-packages (from otter-grader->-r requirements.txt (line 4)) (7.0.6)\n",
      "Requirement already satisfied: gspread in /opt/homebrew/lib/python3.9/site-packages (from otter-grader->-r requirements.txt (line 4)) (4.0.1)\n",
      "Requirement already satisfied: google-auth-oauthlib in /opt/homebrew/lib/python3.9/site-packages (from otter-grader->-r requirements.txt (line 4)) (0.4.6)\n",
      "Requirement already satisfied: google-api-python-client in /opt/homebrew/lib/python3.9/site-packages (from otter-grader->-r requirements.txt (line 4)) (2.31.0)\n",
      "Requirement already satisfied: matplotlib in /opt/homebrew/lib/python3.9/site-packages (from otter-grader->-r requirements.txt (line 4)) (3.5.0)\n",
      "Requirement already satisfied: PyYAML in /opt/homebrew/lib/python3.9/site-packages (from otter-grader->-r requirements.txt (line 4)) (6.0)\n",
      "Requirement already satisfied: nbconvert in /Users/abeeramir/nbconvert (from otter-grader->-r requirements.txt (line 4)) (6.4.0)\n",
      "Requirement already satisfied: python-on-whales in /opt/homebrew/lib/python3.9/site-packages (from otter-grader->-r requirements.txt (line 4)) (0.31.0)\n",
      "Requirement already satisfied: nbformat in /opt/homebrew/lib/python3.9/site-packages (from otter-grader->-r requirements.txt (line 4)) (5.1.3)\n",
      "Requirement already satisfied: ipykernel in /opt/homebrew/lib/python3.9/site-packages (from otter-grader->-r requirements.txt (line 4)) (6.5.1)\n",
      "Requirement already satisfied: google-api-core<3.0.0dev,>=1.21.0 in /opt/homebrew/lib/python3.9/site-packages (from google-api-python-client->otter-grader->-r requirements.txt (line 4)) (2.2.2)\n",
      "Requirement already satisfied: httplib2<1dev,>=0.15.0 in /opt/homebrew/lib/python3.9/site-packages (from google-api-python-client->otter-grader->-r requirements.txt (line 4)) (0.20.2)\n",
      "Requirement already satisfied: uritemplate<5,>=3.0.0 in /opt/homebrew/lib/python3.9/site-packages (from google-api-python-client->otter-grader->-r requirements.txt (line 4)) (4.1.1)\n",
      "Requirement already satisfied: google-auth<3.0.0dev,>=1.16.0 in /opt/homebrew/lib/python3.9/site-packages (from google-api-python-client->otter-grader->-r requirements.txt (line 4)) (2.3.3)\n",
      "Requirement already satisfied: google-auth-httplib2>=0.1.0 in /opt/homebrew/lib/python3.9/site-packages (from google-api-python-client->otter-grader->-r requirements.txt (line 4)) (0.1.0)\n",
      "Requirement already satisfied: requests-oauthlib>=0.7.0 in /opt/homebrew/lib/python3.9/site-packages (from google-auth-oauthlib->otter-grader->-r requirements.txt (line 4)) (1.3.0)\n",
      "Requirement already satisfied: ipython>=7.23.1 in /opt/homebrew/lib/python3.9/site-packages (from ipykernel->otter-grader->-r requirements.txt (line 4)) (7.29.0)\n",
      "Requirement already satisfied: matplotlib-inline<0.2.0,>=0.1.0 in /opt/homebrew/lib/python3.9/site-packages (from ipykernel->otter-grader->-r requirements.txt (line 4)) (0.1.3)\n",
      "Requirement already satisfied: tornado<7.0,>=4.2 in /opt/homebrew/lib/python3.9/site-packages (from ipykernel->otter-grader->-r requirements.txt (line 4)) (6.1)\n",
      "Requirement already satisfied: traitlets<6.0,>=5.1.0 in /opt/homebrew/lib/python3.9/site-packages (from ipykernel->otter-grader->-r requirements.txt (line 4)) (5.1.1)\n",
      "Requirement already satisfied: debugpy<2.0,>=1.0.0 in /opt/homebrew/lib/python3.9/site-packages (from ipykernel->otter-grader->-r requirements.txt (line 4)) (1.5.1)\n",
      "Requirement already satisfied: appnope in /opt/homebrew/lib/python3.9/site-packages (from ipykernel->otter-grader->-r requirements.txt (line 4)) (0.1.2)\n",
      "Requirement already satisfied: nest-asyncio>=1.5 in /opt/homebrew/lib/python3.9/site-packages (from jupyter-client->otter-grader->-r requirements.txt (line 4)) (1.5.1)\n",
      "Requirement already satisfied: jupyter-core>=4.6.0 in /opt/homebrew/lib/python3.9/site-packages (from jupyter-client->otter-grader->-r requirements.txt (line 4)) (4.9.1)\n",
      "Requirement already satisfied: pyzmq>=13 in /opt/homebrew/lib/python3.9/site-packages (from jupyter-client->otter-grader->-r requirements.txt (line 4)) (22.3.0)\n",
      "Requirement already satisfied: entrypoints in /opt/homebrew/lib/python3.9/site-packages (from jupyter-client->otter-grader->-r requirements.txt (line 4)) (0.3)\n",
      "Requirement already satisfied: MarkupSafe>=2.0 in /opt/homebrew/lib/python3.9/site-packages (from jinja2->otter-grader->-r requirements.txt (line 4)) (2.0.1)\n",
      "Requirement already satisfied: pillow>=6.2.0 in /opt/homebrew/lib/python3.9/site-packages (from matplotlib->otter-grader->-r requirements.txt (line 4)) (8.4.0)\n",
      "Requirement already satisfied: fonttools>=4.22.0 in /opt/homebrew/lib/python3.9/site-packages (from matplotlib->otter-grader->-r requirements.txt (line 4)) (4.28.2)\n",
      "Requirement already satisfied: setuptools-scm>=4 in /opt/homebrew/lib/python3.9/site-packages (from matplotlib->otter-grader->-r requirements.txt (line 4)) (6.3.2)\n",
      "Requirement already satisfied: pyparsing>=2.2.1 in /opt/homebrew/lib/python3.9/site-packages (from matplotlib->otter-grader->-r requirements.txt (line 4)) (3.0.6)\n",
      "Requirement already satisfied: cycler>=0.10 in /opt/homebrew/lib/python3.9/site-packages (from matplotlib->otter-grader->-r requirements.txt (line 4)) (0.11.0)\n",
      "Requirement already satisfied: kiwisolver>=1.0.1 in /opt/homebrew/lib/python3.9/site-packages (from matplotlib->otter-grader->-r requirements.txt (line 4)) (1.3.2)\n",
      "Requirement already satisfied: packaging>=20.0 in /opt/homebrew/lib/python3.9/site-packages (from matplotlib->otter-grader->-r requirements.txt (line 4)) (21.3)\n",
      "Requirement already satisfied: mistune<2,>=0.8.1 in /opt/homebrew/lib/python3.9/site-packages (from nbconvert->otter-grader->-r requirements.txt (line 4)) (0.8.4)\n",
      "Requirement already satisfied: pygments>=2.4.1 in /opt/homebrew/lib/python3.9/site-packages (from nbconvert->otter-grader->-r requirements.txt (line 4)) (2.10.0)\n",
      "Requirement already satisfied: jupyterlab_pygments in /opt/homebrew/lib/python3.9/site-packages (from nbconvert->otter-grader->-r requirements.txt (line 4)) (0.1.2)\n",
      "Requirement already satisfied: bleach in /opt/homebrew/lib/python3.9/site-packages (from nbconvert->otter-grader->-r requirements.txt (line 4)) (4.1.0)\n",
      "Requirement already satisfied: pandocfilters>=1.4.1 in /opt/homebrew/lib/python3.9/site-packages (from nbconvert->otter-grader->-r requirements.txt (line 4)) (1.5.0)\n",
      "Requirement already satisfied: testpath in /opt/homebrew/lib/python3.9/site-packages (from nbconvert->otter-grader->-r requirements.txt (line 4)) (0.5.0)\n",
      "Requirement already satisfied: defusedxml in /opt/homebrew/lib/python3.9/site-packages (from nbconvert->otter-grader->-r requirements.txt (line 4)) (0.7.1)\n",
      "Requirement already satisfied: nbclient<0.6.0,>=0.5.0 in /opt/homebrew/lib/python3.9/site-packages (from nbconvert->otter-grader->-r requirements.txt (line 4)) (0.5.9)\n",
      "Requirement already satisfied: ipython-genutils in /opt/homebrew/lib/python3.9/site-packages (from nbformat->otter-grader->-r requirements.txt (line 4)) (0.2.0)\n",
      "Requirement already satisfied: jsonschema!=2.5.0,>=2.4 in /opt/homebrew/lib/python3.9/site-packages (from nbformat->otter-grader->-r requirements.txt (line 4)) (4.2.1)\n",
      "Requirement already satisfied: tqdm in /opt/homebrew/lib/python3.9/site-packages (from python-on-whales->otter-grader->-r requirements.txt (line 4)) (4.62.3)\n",
      "Requirement already satisfied: pydantic in /opt/homebrew/lib/python3.9/site-packages (from python-on-whales->otter-grader->-r requirements.txt (line 4)) (1.8.2)\n",
      "Requirement already satisfied: typer in /opt/homebrew/lib/python3.9/site-packages (from python-on-whales->otter-grader->-r requirements.txt (line 4)) (0.4.0)\n",
      "Requirement already satisfied: charset-normalizer~=2.0.0 in /opt/homebrew/lib/python3.9/site-packages (from requests->otter-grader->-r requirements.txt (line 4)) (2.0.7)\n",
      "Requirement already satisfied: urllib3<1.27,>=1.21.1 in /opt/homebrew/lib/python3.9/site-packages (from requests->otter-grader->-r requirements.txt (line 4)) (1.26.7)\n",
      "Requirement already satisfied: certifi>=2017.4.17 in /opt/homebrew/lib/python3.9/site-packages (from requests->otter-grader->-r requirements.txt (line 4)) (2021.10.8)\n",
      "Requirement already satisfied: idna<4,>=2.5 in /opt/homebrew/lib/python3.9/site-packages (from requests->otter-grader->-r requirements.txt (line 4)) (3.3)\n",
      "Requirement already satisfied: setuptools>=40.3.0 in /opt/homebrew/lib/python3.9/site-packages (from google-api-core<3.0.0dev,>=1.21.0->google-api-python-client->otter-grader->-r requirements.txt (line 4)) (57.4.0)\n",
      "Requirement already satisfied: protobuf>=3.12.0 in /opt/homebrew/lib/python3.9/site-packages (from google-api-core<3.0.0dev,>=1.21.0->google-api-python-client->otter-grader->-r requirements.txt (line 4)) (3.19.1)\n",
      "Requirement already satisfied: googleapis-common-protos<2.0dev,>=1.52.0 in /opt/homebrew/lib/python3.9/site-packages (from google-api-core<3.0.0dev,>=1.21.0->google-api-python-client->otter-grader->-r requirements.txt (line 4)) (1.53.0)\n",
      "Requirement already satisfied: cachetools<5.0,>=2.0.0 in /opt/homebrew/lib/python3.9/site-packages (from google-auth<3.0.0dev,>=1.16.0->google-api-python-client->otter-grader->-r requirements.txt (line 4)) (4.2.4)\n",
      "Requirement already satisfied: rsa<5,>=3.1.4 in /opt/homebrew/lib/python3.9/site-packages (from google-auth<3.0.0dev,>=1.16.0->google-api-python-client->otter-grader->-r requirements.txt (line 4)) (4.7.2)\n",
      "Requirement already satisfied: pyasn1-modules>=0.2.1 in /opt/homebrew/lib/python3.9/site-packages (from google-auth<3.0.0dev,>=1.16.0->google-api-python-client->otter-grader->-r requirements.txt (line 4)) (0.2.8)\n",
      "Requirement already satisfied: backcall in /opt/homebrew/lib/python3.9/site-packages (from ipython>=7.23.1->ipykernel->otter-grader->-r requirements.txt (line 4)) (0.2.0)\n",
      "Requirement already satisfied: decorator in /opt/homebrew/lib/python3.9/site-packages (from ipython>=7.23.1->ipykernel->otter-grader->-r requirements.txt (line 4)) (5.1.0)\n",
      "Requirement already satisfied: pickleshare in /opt/homebrew/lib/python3.9/site-packages (from ipython>=7.23.1->ipykernel->otter-grader->-r requirements.txt (line 4)) (0.7.5)\n",
      "Requirement already satisfied: jedi>=0.16 in /opt/homebrew/lib/python3.9/site-packages (from ipython>=7.23.1->ipykernel->otter-grader->-r requirements.txt (line 4)) (0.18.1)\n",
      "Requirement already satisfied: pexpect>4.3 in /opt/homebrew/lib/python3.9/site-packages (from ipython>=7.23.1->ipykernel->otter-grader->-r requirements.txt (line 4)) (4.8.0)\n",
      "Requirement already satisfied: prompt-toolkit!=3.0.0,!=3.0.1,<3.1.0,>=2.0.0 in /opt/homebrew/lib/python3.9/site-packages (from ipython>=7.23.1->ipykernel->otter-grader->-r requirements.txt (line 4)) (3.0.22)\n",
      "Requirement already satisfied: attrs>=17.4.0 in /opt/homebrew/lib/python3.9/site-packages (from jsonschema!=2.5.0,>=2.4->nbformat->otter-grader->-r requirements.txt (line 4)) (21.2.0)\n",
      "Requirement already satisfied: pyrsistent!=0.17.0,!=0.17.1,!=0.17.2,>=0.14.0 in /opt/homebrew/lib/python3.9/site-packages (from jsonschema!=2.5.0,>=2.4->nbformat->otter-grader->-r requirements.txt (line 4)) (0.18.0)\n",
      "Requirement already satisfied: oauthlib>=3.0.0 in /opt/homebrew/lib/python3.9/site-packages (from requests-oauthlib>=0.7.0->google-auth-oauthlib->otter-grader->-r requirements.txt (line 4)) (3.1.1)\n",
      "Requirement already satisfied: tomli>=1.0.0 in /opt/homebrew/lib/python3.9/site-packages (from setuptools-scm>=4->matplotlib->otter-grader->-r requirements.txt (line 4)) (1.2.2)\n",
      "Requirement already satisfied: webencodings in /opt/homebrew/lib/python3.9/site-packages (from bleach->nbconvert->otter-grader->-r requirements.txt (line 4)) (0.5.1)\n",
      "Requirement already satisfied: typing-extensions>=3.7.4.3 in /opt/homebrew/lib/python3.9/site-packages (from pydantic->python-on-whales->otter-grader->-r requirements.txt (line 4)) (4.0.0)\n",
      "Requirement already satisfied: click<9.0.0,>=7.1.1 in /opt/homebrew/lib/python3.9/site-packages (from typer->python-on-whales->otter-grader->-r requirements.txt (line 4)) (8.0.3)\n",
      "Requirement already satisfied: parso<0.9.0,>=0.8.0 in /opt/homebrew/lib/python3.9/site-packages (from jedi>=0.16->ipython>=7.23.1->ipykernel->otter-grader->-r requirements.txt (line 4)) (0.8.2)\n",
      "Requirement already satisfied: ptyprocess>=0.5 in /opt/homebrew/lib/python3.9/site-packages (from pexpect>4.3->ipython>=7.23.1->ipykernel->otter-grader->-r requirements.txt (line 4)) (0.7.0)\n",
      "Requirement already satisfied: wcwidth in /opt/homebrew/lib/python3.9/site-packages (from prompt-toolkit!=3.0.0,!=3.0.1,<3.1.0,>=2.0.0->ipython>=7.23.1->ipykernel->otter-grader->-r requirements.txt (line 4)) (0.2.5)\n",
      "Requirement already satisfied: pyasn1<0.5.0,>=0.4.6 in /opt/homebrew/lib/python3.9/site-packages (from pyasn1-modules>=0.2.1->google-auth<3.0.0dev,>=1.16.0->google-api-python-client->otter-grader->-r requirements.txt (line 4)) (0.4.8)\n",
      "Note: you may need to restart the kernel to use updated packages.\n"
     ]
    }
   ],
   "source": [
    "# Don't change this cell; just run it. \n",
    "# The result will give you directions about how to log in to the submission system, called OK.\n",
    "# Once you're logged in, you can run this cell again, \n",
    "# but it won't ask you who you are because it remembers you. \n",
    "# However, you will need to log in once per assignment.\n",
    "# When you log-in please hit return (not shift + return) after typing in your email\n",
    "\n",
    "%pip install -r requirements.txt\n",
    "import numpy as np\n",
    "import pandas as pd\n",
    "from scipy.optimize import minimize\n",
    "\n",
    "# These lines do some fancy plotting magic.\n",
    "import matplotlib\n",
    "# This is a magic function that renders the figure in the notebook, instead of displaying a dump of the figure object.\n",
    "%matplotlib inline\n",
    "import matplotlib.pyplot as plt\n",
    "plt.style.use('fivethirtyeight')\n",
    "import warnings\n",
    "warnings.simplefilter('ignore', FutureWarning)\n",
    "\n",
    "import otter\n",
    "grader = otter.Notebook()"
   ]
  },
  {
   "cell_type": "markdown",
   "metadata": {
    "id": "YKsuY7G77YXl"
   },
   "source": [
    "## Importing Data"
   ]
  },
  {
   "cell_type": "markdown",
   "metadata": {
    "id": "4fxeBd-x7dlO"
   },
   "source": [
    "## Linear Regression"
   ]
  },
  {
   "cell_type": "code",
   "execution_count": 3,
   "metadata": {
    "id": "8hDDnT5v784Q"
   },
   "outputs": [
    {
     "data": {
      "text/html": [
       "<div>\n",
       "<style scoped>\n",
       "    .dataframe tbody tr th:only-of-type {\n",
       "        vertical-align: middle;\n",
       "    }\n",
       "\n",
       "    .dataframe tbody tr th {\n",
       "        vertical-align: top;\n",
       "    }\n",
       "\n",
       "    .dataframe thead th {\n",
       "        text-align: right;\n",
       "    }\n",
       "</style>\n",
       "<table border=\"1\" class=\"dataframe\">\n",
       "  <thead>\n",
       "    <tr style=\"text-align: right;\">\n",
       "      <th></th>\n",
       "      <th>Cell Line</th>\n",
       "      <th>Copy Number</th>\n",
       "      <th>mRNA Expression (Affy)</th>\n",
       "      <th>mRNA Expression (RNAseq)</th>\n",
       "    </tr>\n",
       "  </thead>\n",
       "  <tbody>\n",
       "    <tr>\n",
       "      <th>0</th>\n",
       "      <td>DMS53_LUNG</td>\n",
       "      <td>0.1728</td>\n",
       "      <td>7.482898</td>\n",
       "      <td>2.489797</td>\n",
       "    </tr>\n",
       "    <tr>\n",
       "      <th>1</th>\n",
       "      <td>SW1116_LARGE_INTESTINE</td>\n",
       "      <td>0.1910</td>\n",
       "      <td>8.154946</td>\n",
       "      <td>2.868566</td>\n",
       "    </tr>\n",
       "    <tr>\n",
       "      <th>2</th>\n",
       "      <td>NCIH1694_LUNG</td>\n",
       "      <td>-0.2372</td>\n",
       "      <td>7.993083</td>\n",
       "      <td>2.821475</td>\n",
       "    </tr>\n",
       "    <tr>\n",
       "      <th>3</th>\n",
       "      <td>P3HR1_HAEMATOPOIETIC_AND_LYMPHOID_TISSUE</td>\n",
       "      <td>-0.0129</td>\n",
       "      <td>9.963575</td>\n",
       "      <td>4.657019</td>\n",
       "    </tr>\n",
       "    <tr>\n",
       "      <th>4</th>\n",
       "      <td>HUT78_HAEMATOPOIETIC_AND_LYMPHOID_TISSUE</td>\n",
       "      <td>-1.1013</td>\n",
       "      <td>8.741163</td>\n",
       "      <td>2.752360</td>\n",
       "    </tr>\n",
       "  </tbody>\n",
       "</table>\n",
       "</div>"
      ],
      "text/plain": [
       "                                  Cell Line  Copy Number  \\\n",
       "0                                DMS53_LUNG       0.1728   \n",
       "1                    SW1116_LARGE_INTESTINE       0.1910   \n",
       "2                             NCIH1694_LUNG      -0.2372   \n",
       "3  P3HR1_HAEMATOPOIETIC_AND_LYMPHOID_TISSUE      -0.0129   \n",
       "4  HUT78_HAEMATOPOIETIC_AND_LYMPHOID_TISSUE      -1.1013   \n",
       "\n",
       "   mRNA Expression (Affy)  mRNA Expression (RNAseq)  \n",
       "0                7.482898                  2.489797  \n",
       "1                8.154946                  2.868566  \n",
       "2                7.993083                  2.821475  \n",
       "3                9.963575                  4.657019  \n",
       "4                8.741163                  2.752360  "
      ]
     },
     "execution_count": 3,
     "metadata": {},
     "output_type": "execute_result"
    }
   ],
   "source": [
    "# Just run this cell\n",
    "pten = pd.read_csv(\"pten.csv\")\n",
    "pten.head(5)"
   ]
  },
  {
   "cell_type": "code",
   "execution_count": 4,
   "metadata": {
    "id": "Whc8ZtqB8a4n"
   },
   "outputs": [
    {
     "data": {
      "text/plain": [
       "array([[<AxesSubplot:title={'center':'Copy Number'}>]], dtype=object)"
      ]
     },
     "execution_count": 4,
     "metadata": {},
     "output_type": "execute_result"
    },
    {
     "data": {
      "image/png": "[encoded data removed]",
      "text/plain": [
       "<Figure size 432x288 with 1 Axes>"
      ]
     },
     "metadata": {},
     "output_type": "display_data"
    }
   ],
   "source": [
    "# Just run this cell\n",
    "pten.hist(\"Copy Number\", bins = np.arange(-1, 1.5, 0.5))"
   ]
  },
  {
   "cell_type": "markdown",
   "metadata": {},
   "source": [
    "**Question 1**\n",
    "\n",
    "Looking at the histogram above, we want to check whether or not `Copy Number` is in standard units. For this question, compute the mean and the standard deviation of the values in `Copy Number` and assign these values to `copy_number_mean` and `copy_number_sd` respectively. After you calculate these values, assign `is_su` to either `True` if you think that `Copy Numbers` is in standard units or `False` if you think otherwise."
   ]
  },
  {
   "cell_type": "code",
   "execution_count": 5,
   "metadata": {
    "tags": []
   },
   "outputs": [
    {
     "name": "stdout",
     "output_type": "stream",
     "text": [
      "Mean: Ellipsis, SD: Ellipsis, Is in standard units?: Ellipsis\n"
     ]
    }
   ],
   "source": [
    "copy_number = pten['Copy Number']\n",
    "copy_number_mean = ...\n",
    "copy_number_sd = ...\n",
    "is_su = ...\n",
    "print(f\"Mean: {copy_number_mean}, SD: {copy_number_sd}, Is in standard units?: {is_su}\")"
   ]
  },
  {
   "cell_type": "code",
   "execution_count": 6,
   "metadata": {
    "deletable": false,
    "editable": false
   },
   "outputs": [
    {
     "data": {
      "text/html": [
       "<p><strong style='color: red;'><pre style='display: inline;'>q1</pre> results:</strong></p><p><strong><pre style='display: inline;'>q1 - 1</pre> result:</strong></p><pre>    Trying:\n",
       "        np.isclose(copy_number_mean, -0.19447913669064748)\n",
       "    Expecting:\n",
       "        True\n",
       "    **********************************************************************\n",
       "    Line 1, in q1 0\n",
       "    Failed example:\n",
       "        np.isclose(copy_number_mean, -0.19447913669064748)\n",
       "    Exception raised:\n",
       "        Traceback (most recent call last):\n",
       "          File \"/opt/homebrew/Cellar/python@3.9/3.9.7/Frameworks/Python.framework/Versions/3.9/lib/python3.9/doctest.py\", line 1336, in __run\n",
       "            exec(compile(example.source, filename, \"single\",\n",
       "          File \"<doctest q1 0[0]>\", line 1, in <module>\n",
       "            np.isclose(copy_number_mean, -0.19447913669064748)\n",
       "          File \"<__array_function__ internals>\", line 5, in isclose\n",
       "          File \"/opt/homebrew/lib/python3.9/site-packages/numpy/core/numeric.py\", line 2355, in isclose\n",
       "            xfin = isfinite(x)\n",
       "        TypeError: ufunc 'isfinite' not supported for the input types, and the inputs could not be safely coerced to any supported types according to the casting rule ''safe''\n",
       "</pre><p><strong><pre style='display: inline;'>q1 - 2</pre> result:</strong></p><pre>    Trying:\n",
       "        np.isclose(copy_number_sd, 0.7466239639509008)\n",
       "    Expecting:\n",
       "        True\n",
       "    **********************************************************************\n",
       "    Line 1, in q1 1\n",
       "    Failed example:\n",
       "        np.isclose(copy_number_sd, 0.7466239639509008)\n",
       "    Exception raised:\n",
       "        Traceback (most recent call last):\n",
       "          File \"/opt/homebrew/Cellar/python@3.9/3.9.7/Frameworks/Python.framework/Versions/3.9/lib/python3.9/doctest.py\", line 1336, in __run\n",
       "            exec(compile(example.source, filename, \"single\",\n",
       "          File \"<doctest q1 1[0]>\", line 1, in <module>\n",
       "            np.isclose(copy_number_sd, 0.7466239639509008)\n",
       "          File \"<__array_function__ internals>\", line 5, in isclose\n",
       "          File \"/opt/homebrew/lib/python3.9/site-packages/numpy/core/numeric.py\", line 2355, in isclose\n",
       "            xfin = isfinite(x)\n",
       "        TypeError: ufunc 'isfinite' not supported for the input types, and the inputs could not be safely coerced to any supported types according to the casting rule ''safe''\n",
       "</pre>"
      ],
      "text/plain": [
       "q1 results:\n",
       "    q1 - 1 result:\n",
       "        Trying:\n",
       "            np.isclose(copy_number_mean, -0.19447913669064748)\n",
       "        Expecting:\n",
       "            True\n",
       "        **********************************************************************\n",
       "        Line 1, in q1 0\n",
       "        Failed example:\n",
       "            np.isclose(copy_number_mean, -0.19447913669064748)\n",
       "        Exception raised:\n",
       "            Traceback (most recent call last):\n",
       "              File \"/opt/homebrew/Cellar/python@3.9/3.9.7/Frameworks/Python.framework/Versions/3.9/lib/python3.9/doctest.py\", line 1336, in __run\n",
       "                exec(compile(example.source, filename, \"single\",\n",
       "              File \"<doctest q1 0[0]>\", line 1, in <module>\n",
       "                np.isclose(copy_number_mean, -0.19447913669064748)\n",
       "              File \"<__array_function__ internals>\", line 5, in isclose\n",
       "              File \"/opt/homebrew/lib/python3.9/site-packages/numpy/core/numeric.py\", line 2355, in isclose\n",
       "                xfin = isfinite(x)\n",
       "            TypeError: ufunc 'isfinite' not supported for the input types, and the inputs could not be safely coerced to any supported types according to the casting rule ''safe''\n",
       "\n",
       "    q1 - 2 result:\n",
       "        Trying:\n",
       "            np.isclose(copy_number_sd, 0.7466239639509008)\n",
       "        Expecting:\n",
       "            True\n",
       "        **********************************************************************\n",
       "        Line 1, in q1 1\n",
       "        Failed example:\n",
       "            np.isclose(copy_number_sd, 0.7466239639509008)\n",
       "        Exception raised:\n",
       "            Traceback (most recent call last):\n",
       "              File \"/opt/homebrew/Cellar/python@3.9/3.9.7/Frameworks/Python.framework/Versions/3.9/lib/python3.9/doctest.py\", line 1336, in __run\n",
       "                exec(compile(example.source, filename, \"single\",\n",
       "              File \"<doctest q1 1[0]>\", line 1, in <module>\n",
       "                np.isclose(copy_number_sd, 0.7466239639509008)\n",
       "              File \"<__array_function__ internals>\", line 5, in isclose\n",
       "              File \"/opt/homebrew/lib/python3.9/site-packages/numpy/core/numeric.py\", line 2355, in isclose\n",
       "                xfin = isfinite(x)\n",
       "            TypeError: ufunc 'isfinite' not supported for the input types, and the inputs could not be safely coerced to any supported types according to the casting rule ''safe''"
      ]
     },
     "execution_count": 6,
     "metadata": {},
     "output_type": "execute_result"
    }
   ],
   "source": [
    "grader.check(\"q1\")"
   ]
  },
  {
   "cell_type": "markdown",
   "metadata": {},
   "source": [
    "**Question 2**\n",
    "\n",
    "Create the function `standard_units` so that it converts the values in the array `arr` to standard units. We'll then use `standard_units` to create a new table, `pten_su`, that converts all the values in the table `pten` to standard units."
   ]
  },
  {
   "cell_type": "code",
   "execution_count": 7,
   "metadata": {
    "tags": []
   },
   "outputs": [
    {
     "name": "stdout",
     "output_type": "stream",
     "text": [
      "                                  Cell Line Copy Number SU  \\\n",
      "0                                DMS53_LUNG           None   \n",
      "1                    SW1116_LARGE_INTESTINE           None   \n",
      "2                             NCIH1694_LUNG           None   \n",
      "3  P3HR1_HAEMATOPOIETIC_AND_LYMPHOID_TISSUE           None   \n",
      "4  HUT78_HAEMATOPOIETIC_AND_LYMPHOID_TISSUE           None   \n",
      "\n",
      "  mRNA Expression (Affy) SU mRNA Expression (RNAseq) SU  \n",
      "0                      None                        None  \n",
      "1                      None                        None  \n",
      "2                      None                        None  \n",
      "3                      None                        None  \n",
      "4                      None                        None  \n"
     ]
    }
   ],
   "source": [
    "def standard_units(arr):\n",
    "    ...\n",
    "\n",
    "# DON'T DELETE OR MODIFY ANY OF THE LINES OF CODE BELOW IN THIS CELL\n",
    "pten_su = pd.DataFrame({\"Cell Line\": pten[\"Cell Line\"],\n",
    "            \"Copy Number SU\": standard_units(pten[\"Copy Number\"]),\n",
    "            \"mRNA Expression (Affy) SU\": standard_units(pten[\"mRNA Expression (Affy)\"]),\n",
    "            \"mRNA Expression (RNAseq) SU\": standard_units(pten[\"mRNA Expression (RNAseq)\"])}) \n",
    "print(pten_su.head(5))"
   ]
  },
  {
   "cell_type": "code",
   "execution_count": 8,
   "metadata": {
    "deletable": false,
    "editable": false
   },
   "outputs": [
    {
     "data": {
      "text/html": [
       "<p><strong style='color: red;'><pre style='display: inline;'>q2</pre> results:</strong></p><p><strong><pre style='display: inline;'>q2 - 1</pre> result:</strong></p><pre>    Trying:\n",
       "        assert standard_units(pten[\"Copy Number\"][0:10]) == [0.7856671414279968, 0.8056146080509384, 0.33630113508700193, 0.5821372209950144, -0.6107651236428848, -1.736372168794596, 0.5038817750127046, 0.6086607755156291, 0.47067253112945545, -1.7457978947812607]\n",
       "    Expecting nothing\n",
       "    **********************************************************************\n",
       "    Line 1, in q2 0\n",
       "    Failed example:\n",
       "        assert standard_units(pten[\"Copy Number\"][0:10]) == [0.7856671414279968, 0.8056146080509384, 0.33630113508700193, 0.5821372209950144, -0.6107651236428848, -1.736372168794596, 0.5038817750127046, 0.6086607755156291, 0.47067253112945545, -1.7457978947812607]\n",
       "    Exception raised:\n",
       "        Traceback (most recent call last):\n",
       "          File \"/opt/homebrew/Cellar/python@3.9/3.9.7/Frameworks/Python.framework/Versions/3.9/lib/python3.9/doctest.py\", line 1336, in __run\n",
       "            exec(compile(example.source, filename, \"single\",\n",
       "          File \"<doctest q2 0[0]>\", line 1, in <module>\n",
       "            assert standard_units(pten[\"Copy Number\"][0:10]) == [0.7856671414279968, 0.8056146080509384, 0.33630113508700193, 0.5821372209950144, -0.6107651236428848, -1.736372168794596, 0.5038817750127046, 0.6086607755156291, 0.47067253112945545, -1.7457978947812607]\n",
       "        AssertionError\n",
       "</pre>"
      ],
      "text/plain": [
       "q2 results:\n",
       "    q2 - 1 result:\n",
       "        Trying:\n",
       "            assert standard_units(pten[\"Copy Number\"][0:10]) == [0.7856671414279968, 0.8056146080509384, 0.33630113508700193, 0.5821372209950144, -0.6107651236428848, -1.736372168794596, 0.5038817750127046, 0.6086607755156291, 0.47067253112945545, -1.7457978947812607]\n",
       "        Expecting nothing\n",
       "        **********************************************************************\n",
       "        Line 1, in q2 0\n",
       "        Failed example:\n",
       "            assert standard_units(pten[\"Copy Number\"][0:10]) == [0.7856671414279968, 0.8056146080509384, 0.33630113508700193, 0.5821372209950144, -0.6107651236428848, -1.736372168794596, 0.5038817750127046, 0.6086607755156291, 0.47067253112945545, -1.7457978947812607]\n",
       "        Exception raised:\n",
       "            Traceback (most recent call last):\n",
       "              File \"/opt/homebrew/Cellar/python@3.9/3.9.7/Frameworks/Python.framework/Versions/3.9/lib/python3.9/doctest.py\", line 1336, in __run\n",
       "                exec(compile(example.source, filename, \"single\",\n",
       "              File \"<doctest q2 0[0]>\", line 1, in <module>\n",
       "                assert standard_units(pten[\"Copy Number\"][0:10]) == [0.7856671414279968, 0.8056146080509384, 0.33630113508700193, 0.5821372209950144, -0.6107651236428848, -1.736372168794596, 0.5038817750127046, 0.6086607755156291, 0.47067253112945545, -1.7457978947812607]\n",
       "            AssertionError"
      ]
     },
     "execution_count": 8,
     "metadata": {},
     "output_type": "execute_result"
    }
   ],
   "source": [
    "grader.check(\"q2\")"
   ]
  },
  {
   "cell_type": "markdown",
   "metadata": {},
   "source": [
    "You should always visually inspect your data, before numerically analyzing any relationships in your dataset. Run the following cell in order to look at the relationship between the variables in our dataset."
   ]
  },
  {
   "cell_type": "code",
   "execution_count": 9,
   "metadata": {},
   "outputs": [
    {
     "data": {
      "text/plain": [
       "<AxesSubplot:xlabel='mRNA Expression (Affy) SU', ylabel='mRNA Expression (RNAseq) SU'>"
      ]
     },
     "execution_count": 9,
     "metadata": {},
     "output_type": "execute_result"
    },
    {
     "data": {
      "image/png": "[encoded data removed]",
      "text/plain": [
       "<Figure size 432x288 with 1 Axes>"
      ]
     },
     "metadata": {},
     "output_type": "display_data"
    },
    {
     "data": {
      "image/png": "[encoded data removed]",
      "text/plain": [
       "<Figure size 432x288 with 1 Axes>"
      ]
     },
     "metadata": {},
     "output_type": "display_data"
    },
    {
     "data": {
      "image/png": "[encoded data removed]",
      "text/plain": [
       "<Figure size 432x288 with 1 Axes>"
      ]
     },
     "metadata": {},
     "output_type": "display_data"
    }
   ],
   "source": [
    "# Just run this cell\n",
    "pten_su.plot.scatter(\"Copy Number SU\", \"mRNA Expression (Affy) SU\")\n",
    "pten_su.plot.scatter(\"Copy Number SU\", \"mRNA Expression (RNAseq) SU\")\n",
    "pten_su.plot.scatter(\"mRNA Expression (Affy) SU\", \"mRNA Expression (RNAseq) SU\")"
   ]
  },
  {
   "cell_type": "markdown",
   "metadata": {},
   "source": [
    "**Question 3**\n",
    "\n",
    "Which of the following relationships do you think has the highest correlation (i.e. highest absolute value of `r`)? Assign `highest_correlation` to the number corresponding to the relationship you think has the highest correlation.\n",
    "\n",
    "1. Copy Number vs. mRNA Expression (Affy)\n",
    "2. Copy Number vs. mRNA Expression (RNAseq)\n",
    "3. mRNA Expression (Affy) vs. mRNA Expression (RNAseq)"
   ]
  },
  {
   "cell_type": "code",
   "execution_count": 10,
   "metadata": {
    "tags": []
   },
   "outputs": [],
   "source": [
    "highest_correlation = ..."
   ]
  },
  {
   "cell_type": "markdown",
   "metadata": {},
   "source": [
    "**Question 4**\n",
    "\n",
    "Now, using the `standard units` function, define the function `correlation` which computes the correlation between `arr1` and `arr2`."
   ]
  },
  {
   "cell_type": "code",
   "execution_count": 11,
   "metadata": {
    "tags": []
   },
   "outputs": [
    {
     "name": "stdout",
     "output_type": "stream",
     "text": [
      "       Copy Number vs. mRNA Expression (Affy) Correlation: None, \n",
      "       Copy Number vs. mRNA Expression (RNAseq) Correlation: None, \n",
      "       mRNA Expression (Affy) vs. mRNA Expression (RNAseq) Correlation: None\n"
     ]
    }
   ],
   "source": [
    "def correlation(arr1, arr2):\n",
    "    ...\n",
    "# This computes the correlation between the different variables in pten\n",
    "copy_affy = correlation(pten[\"Copy Number\"], pten[\"mRNA Expression (Affy)\"])\n",
    "copy_rnaseq = correlation(pten[\"Copy Number\"], pten[\"mRNA Expression (RNAseq)\"])\n",
    "affy_rnaseq = correlation(pten[\"mRNA Expression (Affy)\"], pten[\"mRNA Expression (RNAseq)\"])\n",
    "\n",
    "print(f\" \\\n",
    "      Copy Number vs. mRNA Expression (Affy) Correlation: {copy_affy}, \\n \\\n",
    "      Copy Number vs. mRNA Expression (RNAseq) Correlation: {copy_rnaseq}, \\n \\\n",
    "      mRNA Expression (Affy) vs. mRNA Expression (RNAseq) Correlation: {affy_rnaseq}\")"
   ]
  },
  {
   "cell_type": "code",
   "execution_count": 12,
   "metadata": {
    "deletable": false,
    "editable": false
   },
   "outputs": [
    {
     "data": {
      "text/html": [
       "<p><strong style='color: red;'><pre style='display: inline;'>q4</pre> results:</strong></p><p><strong><pre style='display: inline;'>q4 - 1</pre> result:</strong></p><pre>    Trying:\n",
       "        assert copy_affy == 0.5813535649557299\n",
       "    Expecting nothing\n",
       "    **********************************************************************\n",
       "    Line 1, in q4 0\n",
       "    Failed example:\n",
       "        assert copy_affy == 0.5813535649557299\n",
       "    Exception raised:\n",
       "        Traceback (most recent call last):\n",
       "          File \"/opt/homebrew/Cellar/python@3.9/3.9.7/Frameworks/Python.framework/Versions/3.9/lib/python3.9/doctest.py\", line 1336, in __run\n",
       "            exec(compile(example.source, filename, \"single\",\n",
       "          File \"<doctest q4 0[0]>\", line 1, in <module>\n",
       "            assert copy_affy == 0.5813535649557299\n",
       "        AssertionError\n",
       "</pre>"
      ],
      "text/plain": [
       "q4 results:\n",
       "    q4 - 1 result:\n",
       "        Trying:\n",
       "            assert copy_affy == 0.5813535649557299\n",
       "        Expecting nothing\n",
       "        **********************************************************************\n",
       "        Line 1, in q4 0\n",
       "        Failed example:\n",
       "            assert copy_affy == 0.5813535649557299\n",
       "        Exception raised:\n",
       "            Traceback (most recent call last):\n",
       "              File \"/opt/homebrew/Cellar/python@3.9/3.9.7/Frameworks/Python.framework/Versions/3.9/lib/python3.9/doctest.py\", line 1336, in __run\n",
       "                exec(compile(example.source, filename, \"single\",\n",
       "              File \"<doctest q4 0[0]>\", line 1, in <module>\n",
       "                assert copy_affy == 0.5813535649557299\n",
       "            AssertionError"
      ]
     },
     "execution_count": 12,
     "metadata": {},
     "output_type": "execute_result"
    }
   ],
   "source": [
    "grader.check(\"q4\")"
   ]
  },
  {
   "cell_type": "markdown",
   "metadata": {},
   "source": [
    "**Question 5**\n",
    "\n",
    "If we switch what we input as arguments to `correlation`, i.e. found the correlation between `mRNA Expression (Affy)` vs. `Copy Number` instead of the other way around, would the correlation change? Assign `correlation_change` to either `True` if you think yes, or `False` if you think no."
   ]
  },
  {
   "cell_type": "code",
   "execution_count": 13,
   "metadata": {
    "tags": []
   },
   "outputs": [],
   "source": [
    "correlation_change = ..."
   ]
  },
  {
   "cell_type": "markdown",
   "metadata": {},
   "source": [
    "<!-- BEGIN QUESTION -->\n",
    "\n",
    "**Question 6**\n",
    "\n",
    "Looking at both the scatter plots after Question 2 and the correlations computed in Question 4, describe a pattern you see in the relationships between the variables."
   ]
  },
  {
   "cell_type": "markdown",
   "metadata": {},
   "source": [
    "_Type your answer here, replacing this text._"
   ]
  },
  {
   "cell_type": "markdown",
   "metadata": {},
   "source": [
    "<!-- END QUESTION -->\n",
    "\n",
    "**Question 7**\n",
    "\n",
    "Let's look at the relationship between mRNA Expression (Affy) vs. mRNA Expression (RNAseq) only. Define a function called `regression_parameters` that returns the parameters of the regression line as a two-item array containing the slope and intercept of the regression line as the first and second elements respectively. The function `regression_line` takes in two arguments, an array of `x` values, and an array of `y` values."
   ]
  },
  {
   "cell_type": "code",
   "execution_count": 14,
   "metadata": {
    "tags": []
   },
   "outputs": [
    {
     "data": {
      "text/plain": [
       "[Ellipsis, Ellipsis]"
      ]
     },
     "execution_count": 14,
     "metadata": {},
     "output_type": "execute_result"
    }
   ],
   "source": [
    "def regression_parameters(x, y):\n",
    "    ...\n",
    "    intercept = ...\n",
    "    slope = ...\n",
    "    return [slope, intercept]\n",
    "    \n",
    "parameters = regression_parameters(pten[\"mRNA Expression (Affy)\"], pten[\"mRNA Expression (RNAseq)\"])\n",
    "parameters"
   ]
  },
  {
   "cell_type": "code",
   "execution_count": 15,
   "metadata": {
    "deletable": false,
    "editable": false
   },
   "outputs": [
    {
     "data": {
      "text/html": [
       "<p><strong style='color: red;'><pre style='display: inline;'>q7</pre> results:</strong></p><p><strong><pre style='display: inline;'>q7 - 1</pre> result:</strong></p><pre>    Trying:\n",
       "        assert regression_parameters(pten[\"mRNA Expression (Affy)\"], pten[\"mRNA Expression (RNAseq)\"]) == [1.0711396405744356, -6.454283849890932]\n",
       "    Expecting nothing\n",
       "    **********************************************************************\n",
       "    Line 1, in q7 0\n",
       "    Failed example:\n",
       "        assert regression_parameters(pten[\"mRNA Expression (Affy)\"], pten[\"mRNA Expression (RNAseq)\"]) == [1.0711396405744356, -6.454283849890932]\n",
       "    Exception raised:\n",
       "        Traceback (most recent call last):\n",
       "          File \"/opt/homebrew/Cellar/python@3.9/3.9.7/Frameworks/Python.framework/Versions/3.9/lib/python3.9/doctest.py\", line 1336, in __run\n",
       "            exec(compile(example.source, filename, \"single\",\n",
       "          File \"<doctest q7 0[0]>\", line 1, in <module>\n",
       "            assert regression_parameters(pten[\"mRNA Expression (Affy)\"], pten[\"mRNA Expression (RNAseq)\"]) == [1.0711396405744356, -6.454283849890932]\n",
       "        AssertionError\n",
       "</pre>"
      ],
      "text/plain": [
       "q7 results:\n",
       "    q7 - 1 result:\n",
       "        Trying:\n",
       "            assert regression_parameters(pten[\"mRNA Expression (Affy)\"], pten[\"mRNA Expression (RNAseq)\"]) == [1.0711396405744356, -6.454283849890932]\n",
       "        Expecting nothing\n",
       "        **********************************************************************\n",
       "        Line 1, in q7 0\n",
       "        Failed example:\n",
       "            assert regression_parameters(pten[\"mRNA Expression (Affy)\"], pten[\"mRNA Expression (RNAseq)\"]) == [1.0711396405744356, -6.454283849890932]\n",
       "        Exception raised:\n",
       "            Traceback (most recent call last):\n",
       "              File \"/opt/homebrew/Cellar/python@3.9/3.9.7/Frameworks/Python.framework/Versions/3.9/lib/python3.9/doctest.py\", line 1336, in __run\n",
       "                exec(compile(example.source, filename, \"single\",\n",
       "              File \"<doctest q7 0[0]>\", line 1, in <module>\n",
       "                assert regression_parameters(pten[\"mRNA Expression (Affy)\"], pten[\"mRNA Expression (RNAseq)\"]) == [1.0711396405744356, -6.454283849890932]\n",
       "            AssertionError"
      ]
     },
     "execution_count": 15,
     "metadata": {},
     "output_type": "execute_result"
    }
   ],
   "source": [
    "grader.check(\"q7\")"
   ]
  },
  {
   "cell_type": "markdown",
   "metadata": {},
   "source": [
    "**Question 8**\n",
    "\n",
    "If we switch what we input as arguments to `regression_parameters`, i.e. found the parameters for the regression line for `mRNA Expression (RNAseq)` vs. `mRNA Expression (Affy)` instead of the other way around, would the regression parameters change (would the slope and/or intercept change)? Assign `parameters_change` to either `True` if you think yes, or `False` if you think no."
   ]
  },
  {
   "cell_type": "code",
   "execution_count": 16,
   "metadata": {
    "tags": []
   },
   "outputs": [],
   "source": [
    "parameters_change = ..."
   ]
  },
  {
   "cell_type": "markdown",
   "metadata": {},
   "source": [
    "**Question 9**\n",
    "\n",
    "Now, let's look at how the regression parameters look like in standard units. Use the table `pten_su` and the function `regression_parameters`, and assign `parameters_su` to a two-item array containing the slope and the intercept of the regression line for mRNA Expression (Affy) in standard units vs. mRNA Expression (RNAseq) in standard units."
   ]
  },
  {
   "cell_type": "code",
   "execution_count": 17,
   "metadata": {
    "tags": []
   },
   "outputs": [
    {
     "data": {
      "text/plain": [
       "Ellipsis"
      ]
     },
     "execution_count": 17,
     "metadata": {},
     "output_type": "execute_result"
    }
   ],
   "source": [
    "parameters_su = ...\n",
    "parameters_su"
   ]
  },
  {
   "cell_type": "code",
   "execution_count": 18,
   "metadata": {
    "deletable": false,
    "editable": false
   },
   "outputs": [
    {
     "data": {
      "text/html": [
       "<p><strong style='color: red;'><pre style='display: inline;'>q9</pre> results:</strong></p><p><strong><pre style='display: inline;'>q9 - 1</pre> result:</strong></p><pre>    Trying:\n",
       "        assert parameters_su == [0.9000764746535065, 1.648472490521448e-16]\n",
       "    Expecting nothing\n",
       "    **********************************************************************\n",
       "    Line 1, in q9 0\n",
       "    Failed example:\n",
       "        assert parameters_su == [0.9000764746535065, 1.648472490521448e-16]\n",
       "    Exception raised:\n",
       "        Traceback (most recent call last):\n",
       "          File \"/opt/homebrew/Cellar/python@3.9/3.9.7/Frameworks/Python.framework/Versions/3.9/lib/python3.9/doctest.py\", line 1336, in __run\n",
       "            exec(compile(example.source, filename, \"single\",\n",
       "          File \"<doctest q9 0[0]>\", line 1, in <module>\n",
       "            assert parameters_su == [0.9000764746535065, 1.648472490521448e-16]\n",
       "        AssertionError\n",
       "</pre>"
      ],
      "text/plain": [
       "q9 results:\n",
       "    q9 - 1 result:\n",
       "        Trying:\n",
       "            assert parameters_su == [0.9000764746535065, 1.648472490521448e-16]\n",
       "        Expecting nothing\n",
       "        **********************************************************************\n",
       "        Line 1, in q9 0\n",
       "        Failed example:\n",
       "            assert parameters_su == [0.9000764746535065, 1.648472490521448e-16]\n",
       "        Exception raised:\n",
       "            Traceback (most recent call last):\n",
       "              File \"/opt/homebrew/Cellar/python@3.9/3.9.7/Frameworks/Python.framework/Versions/3.9/lib/python3.9/doctest.py\", line 1336, in __run\n",
       "                exec(compile(example.source, filename, \"single\",\n",
       "              File \"<doctest q9 0[0]>\", line 1, in <module>\n",
       "                assert parameters_su == [0.9000764746535065, 1.648472490521448e-16]\n",
       "            AssertionError"
      ]
     },
     "execution_count": 18,
     "metadata": {},
     "output_type": "execute_result"
    }
   ],
   "source": [
    "grader.check(\"q9\")"
   ]
  },
  {
   "cell_type": "markdown",
   "metadata": {},
   "source": [
    "<!-- BEGIN QUESTION -->\n",
    "\n",
    "**Question 10**\n",
    "\n",
    "Looking at the array `parameters_su`, what do you notice about the slope and intercept values specifically? Relate them to another value we already calculated in a previous question, as well as relate them to an equation."
   ]
  },
  {
   "cell_type": "markdown",
   "metadata": {},
   "source": [
    "_Type your answer here, replacing this text._"
   ]
  },
  {
   "cell_type": "markdown",
   "metadata": {},
   "source": [
    "<!-- END QUESTION -->\n",
    "\n",
    "**Question 11**\n",
    "\n",
    "The oldest and most commonly used cell line in Biology is the HeLa cell line, named after Henrietta Lacks, whose cervical cancer cells were taken without her consent in 1951 to create this cell line. The issue of data privacy and consent is very important to data science! You can read more about this topic [here](https://www.hopkinsmedicine.org/henriettalacks/).\n",
    "\n",
    "The HeLa cell line is missing from our dataset. If we know that the HeLa mRNA Expression (Affy) value is 8.2, what is the predicted mRNA Expression (RNAseq) value? Use the values in `parameters` that we derived in Question 7, and assign the result to `hela_rnaseq`."
   ]
  },
  {
   "cell_type": "code",
   "execution_count": 19,
   "metadata": {
    "tags": []
   },
   "outputs": [],
   "source": [
    "hela_rnaseq = ..."
   ]
  },
  {
   "cell_type": "code",
   "execution_count": 20,
   "metadata": {
    "deletable": false,
    "editable": false
   },
   "outputs": [
    {
     "data": {
      "text/html": [
       "<p><strong style='color: red;'><pre style='display: inline;'>q11</pre> results:</strong></p><p><strong><pre style='display: inline;'>q11 - 1</pre> result:</strong></p><pre>    Trying:\n",
       "        np.isclose(hela_rnaseq, 2.329061202819438)\n",
       "    Expecting:\n",
       "        True\n",
       "    **********************************************************************\n",
       "    Line 1, in q11 0\n",
       "    Failed example:\n",
       "        np.isclose(hela_rnaseq, 2.329061202819438)\n",
       "    Exception raised:\n",
       "        Traceback (most recent call last):\n",
       "          File \"/opt/homebrew/Cellar/python@3.9/3.9.7/Frameworks/Python.framework/Versions/3.9/lib/python3.9/doctest.py\", line 1336, in __run\n",
       "            exec(compile(example.source, filename, \"single\",\n",
       "          File \"<doctest q11 0[0]>\", line 1, in <module>\n",
       "            np.isclose(hela_rnaseq, 2.329061202819438)\n",
       "          File \"<__array_function__ internals>\", line 5, in isclose\n",
       "          File \"/opt/homebrew/lib/python3.9/site-packages/numpy/core/numeric.py\", line 2355, in isclose\n",
       "            xfin = isfinite(x)\n",
       "        TypeError: ufunc 'isfinite' not supported for the input types, and the inputs could not be safely coerced to any supported types according to the casting rule ''safe''\n",
       "</pre>"
      ],
      "text/plain": [
       "q11 results:\n",
       "    q11 - 1 result:\n",
       "        Trying:\n",
       "            np.isclose(hela_rnaseq, 2.329061202819438)\n",
       "        Expecting:\n",
       "            True\n",
       "        **********************************************************************\n",
       "        Line 1, in q11 0\n",
       "        Failed example:\n",
       "            np.isclose(hela_rnaseq, 2.329061202819438)\n",
       "        Exception raised:\n",
       "            Traceback (most recent call last):\n",
       "              File \"/opt/homebrew/Cellar/python@3.9/3.9.7/Frameworks/Python.framework/Versions/3.9/lib/python3.9/doctest.py\", line 1336, in __run\n",
       "                exec(compile(example.source, filename, \"single\",\n",
       "              File \"<doctest q11 0[0]>\", line 1, in <module>\n",
       "                np.isclose(hela_rnaseq, 2.329061202819438)\n",
       "              File \"<__array_function__ internals>\", line 5, in isclose\n",
       "              File \"/opt/homebrew/lib/python3.9/site-packages/numpy/core/numeric.py\", line 2355, in isclose\n",
       "                xfin = isfinite(x)\n",
       "            TypeError: ufunc 'isfinite' not supported for the input types, and the inputs could not be safely coerced to any supported types according to the casting rule ''safe''"
      ]
     },
     "execution_count": 20,
     "metadata": {},
     "output_type": "execute_result"
    }
   ],
   "source": [
    "grader.check(\"q11\")"
   ]
  },
  {
   "cell_type": "markdown",
   "metadata": {},
   "source": [
    "**Question 12**\n",
    "\n",
    "Compute the predicted mRNA Expression (RNAseq) values from the mRNA Expression (Affy) values in the `pten` table. Use the values in the `parameters` array from Question 7, and assign the result to `predicted_rnaseq`. We'll plot your computed regression line with the scatter plot from after question 2 of mRNA Expression (Affy) vs. mRNA Expression (RNAseq)."
   ]
  },
  {
   "cell_type": "code",
   "execution_count": 21,
   "metadata": {
    "tags": []
   },
   "outputs": [
    {
     "ename": "ValueError",
     "evalue": "x and y must have same first dimension, but have shapes (973,) and (1,)",
     "output_type": "error",
     "traceback": [
      "\u001b[0;31m---------------------------------------------------------------------------\u001b[0m",
      "\u001b[0;31mValueError\u001b[0m                                Traceback (most recent call last)",
      "\u001b[0;32m/var/folders/lr/s9v2r2qx6jl4vfrr9b3drsgm0000gn/T/ipykernel_71699/2625775945.py\u001b[0m in \u001b[0;36m<module>\u001b[0;34m\u001b[0m\n\u001b[1;32m      3\u001b[0m \u001b[0mpten\u001b[0m\u001b[0;34m[\u001b[0m\u001b[0;34m\"Predicted mRNA Expression (RNAseq)\"\u001b[0m\u001b[0;34m]\u001b[0m \u001b[0;34m=\u001b[0m \u001b[0mpredicted_rnaseq\u001b[0m\u001b[0;34m\u001b[0m\u001b[0;34m\u001b[0m\u001b[0m\n\u001b[1;32m      4\u001b[0m \u001b[0mpten\u001b[0m\u001b[0;34m[\u001b[0m\u001b[0;34m[\u001b[0m\u001b[0;34m\"mRNA Expression (Affy)\"\u001b[0m\u001b[0;34m,\u001b[0m \u001b[0;34m\"mRNA Expression (RNAseq)\"\u001b[0m\u001b[0;34m,\u001b[0m \u001b[0;34m\"Predicted mRNA Expression (RNAseq)\"\u001b[0m\u001b[0;34m]\u001b[0m\u001b[0;34m]\u001b[0m\u001b[0;34m.\u001b[0m\u001b[0mplot\u001b[0m\u001b[0;34m.\u001b[0m\u001b[0mscatter\u001b[0m\u001b[0;34m(\u001b[0m\u001b[0;34m\"mRNA Expression (Affy)\"\u001b[0m\u001b[0;34m,\u001b[0m \u001b[0;34m\"mRNA Expression (RNAseq)\"\u001b[0m\u001b[0;34m)\u001b[0m\u001b[0;34m\u001b[0m\u001b[0;34m\u001b[0m\u001b[0m\n\u001b[0;32m----> 5\u001b[0;31m \u001b[0mplt\u001b[0m\u001b[0;34m.\u001b[0m\u001b[0mplot\u001b[0m\u001b[0;34m(\u001b[0m\u001b[0mpten\u001b[0m\u001b[0;34m[\u001b[0m\u001b[0;34m\"mRNA Expression (Affy)\"\u001b[0m\u001b[0;34m]\u001b[0m\u001b[0;34m,\u001b[0m \u001b[0mpredicted_rnaseq\u001b[0m\u001b[0;34m)\u001b[0m\u001b[0;34m\u001b[0m\u001b[0;34m\u001b[0m\u001b[0m\n\u001b[0m",
      "\u001b[0;32m/opt/homebrew/lib/python3.9/site-packages/matplotlib/pyplot.py\u001b[0m in \u001b[0;36mplot\u001b[0;34m(scalex, scaley, data, *args, **kwargs)\u001b[0m\n\u001b[1;32m   2755\u001b[0m \u001b[0;34m@\u001b[0m\u001b[0m_copy_docstring_and_deprecators\u001b[0m\u001b[0;34m(\u001b[0m\u001b[0mAxes\u001b[0m\u001b[0;34m.\u001b[0m\u001b[0mplot\u001b[0m\u001b[0;34m)\u001b[0m\u001b[0;34m\u001b[0m\u001b[0;34m\u001b[0m\u001b[0m\n\u001b[1;32m   2756\u001b[0m \u001b[0;32mdef\u001b[0m \u001b[0mplot\u001b[0m\u001b[0;34m(\u001b[0m\u001b[0;34m*\u001b[0m\u001b[0margs\u001b[0m\u001b[0;34m,\u001b[0m \u001b[0mscalex\u001b[0m\u001b[0;34m=\u001b[0m\u001b[0;32mTrue\u001b[0m\u001b[0;34m,\u001b[0m \u001b[0mscaley\u001b[0m\u001b[0;34m=\u001b[0m\u001b[0;32mTrue\u001b[0m\u001b[0;34m,\u001b[0m \u001b[0mdata\u001b[0m\u001b[0;34m=\u001b[0m\u001b[0;32mNone\u001b[0m\u001b[0;34m,\u001b[0m \u001b[0;34m**\u001b[0m\u001b[0mkwargs\u001b[0m\u001b[0;34m)\u001b[0m\u001b[0;34m:\u001b[0m\u001b[0;34m\u001b[0m\u001b[0;34m\u001b[0m\u001b[0m\n\u001b[0;32m-> 2757\u001b[0;31m     return gca().plot(\n\u001b[0m\u001b[1;32m   2758\u001b[0m         \u001b[0;34m*\u001b[0m\u001b[0margs\u001b[0m\u001b[0;34m,\u001b[0m \u001b[0mscalex\u001b[0m\u001b[0;34m=\u001b[0m\u001b[0mscalex\u001b[0m\u001b[0;34m,\u001b[0m \u001b[0mscaley\u001b[0m\u001b[0;34m=\u001b[0m\u001b[0mscaley\u001b[0m\u001b[0;34m,\u001b[0m\u001b[0;34m\u001b[0m\u001b[0;34m\u001b[0m\u001b[0m\n\u001b[1;32m   2759\u001b[0m         **({\"data\": data} if data is not None else {}), **kwargs)\n",
      "\u001b[0;32m/opt/homebrew/lib/python3.9/site-packages/matplotlib/axes/_axes.py\u001b[0m in \u001b[0;36mplot\u001b[0;34m(self, scalex, scaley, data, *args, **kwargs)\u001b[0m\n\u001b[1;32m   1630\u001b[0m         \"\"\"\n\u001b[1;32m   1631\u001b[0m         \u001b[0mkwargs\u001b[0m \u001b[0;34m=\u001b[0m \u001b[0mcbook\u001b[0m\u001b[0;34m.\u001b[0m\u001b[0mnormalize_kwargs\u001b[0m\u001b[0;34m(\u001b[0m\u001b[0mkwargs\u001b[0m\u001b[0;34m,\u001b[0m \u001b[0mmlines\u001b[0m\u001b[0;34m.\u001b[0m\u001b[0mLine2D\u001b[0m\u001b[0;34m)\u001b[0m\u001b[0;34m\u001b[0m\u001b[0;34m\u001b[0m\u001b[0m\n\u001b[0;32m-> 1632\u001b[0;31m         \u001b[0mlines\u001b[0m \u001b[0;34m=\u001b[0m \u001b[0;34m[\u001b[0m\u001b[0;34m*\u001b[0m\u001b[0mself\u001b[0m\u001b[0;34m.\u001b[0m\u001b[0m_get_lines\u001b[0m\u001b[0;34m(\u001b[0m\u001b[0;34m*\u001b[0m\u001b[0margs\u001b[0m\u001b[0;34m,\u001b[0m \u001b[0mdata\u001b[0m\u001b[0;34m=\u001b[0m\u001b[0mdata\u001b[0m\u001b[0;34m,\u001b[0m \u001b[0;34m**\u001b[0m\u001b[0mkwargs\u001b[0m\u001b[0;34m)\u001b[0m\u001b[0;34m]\u001b[0m\u001b[0;34m\u001b[0m\u001b[0;34m\u001b[0m\u001b[0m\n\u001b[0m\u001b[1;32m   1633\u001b[0m         \u001b[0;32mfor\u001b[0m \u001b[0mline\u001b[0m \u001b[0;32min\u001b[0m \u001b[0mlines\u001b[0m\u001b[0;34m:\u001b[0m\u001b[0;34m\u001b[0m\u001b[0;34m\u001b[0m\u001b[0m\n\u001b[1;32m   1634\u001b[0m             \u001b[0mself\u001b[0m\u001b[0;34m.\u001b[0m\u001b[0madd_line\u001b[0m\u001b[0;34m(\u001b[0m\u001b[0mline\u001b[0m\u001b[0;34m)\u001b[0m\u001b[0;34m\u001b[0m\u001b[0;34m\u001b[0m\u001b[0m\n",
      "\u001b[0;32m/opt/homebrew/lib/python3.9/site-packages/matplotlib/axes/_base.py\u001b[0m in \u001b[0;36m__call__\u001b[0;34m(self, data, *args, **kwargs)\u001b[0m\n\u001b[1;32m    310\u001b[0m                 \u001b[0mthis\u001b[0m \u001b[0;34m+=\u001b[0m \u001b[0margs\u001b[0m\u001b[0;34m[\u001b[0m\u001b[0;36m0\u001b[0m\u001b[0;34m]\u001b[0m\u001b[0;34m,\u001b[0m\u001b[0;34m\u001b[0m\u001b[0;34m\u001b[0m\u001b[0m\n\u001b[1;32m    311\u001b[0m                 \u001b[0margs\u001b[0m \u001b[0;34m=\u001b[0m \u001b[0margs\u001b[0m\u001b[0;34m[\u001b[0m\u001b[0;36m1\u001b[0m\u001b[0;34m:\u001b[0m\u001b[0;34m]\u001b[0m\u001b[0;34m\u001b[0m\u001b[0;34m\u001b[0m\u001b[0m\n\u001b[0;32m--> 312\u001b[0;31m             \u001b[0;32myield\u001b[0m \u001b[0;32mfrom\u001b[0m \u001b[0mself\u001b[0m\u001b[0;34m.\u001b[0m\u001b[0m_plot_args\u001b[0m\u001b[0;34m(\u001b[0m\u001b[0mthis\u001b[0m\u001b[0;34m,\u001b[0m \u001b[0mkwargs\u001b[0m\u001b[0;34m)\u001b[0m\u001b[0;34m\u001b[0m\u001b[0;34m\u001b[0m\u001b[0m\n\u001b[0m\u001b[1;32m    313\u001b[0m \u001b[0;34m\u001b[0m\u001b[0m\n\u001b[1;32m    314\u001b[0m     \u001b[0;32mdef\u001b[0m \u001b[0mget_next_color\u001b[0m\u001b[0;34m(\u001b[0m\u001b[0mself\u001b[0m\u001b[0;34m)\u001b[0m\u001b[0;34m:\u001b[0m\u001b[0;34m\u001b[0m\u001b[0;34m\u001b[0m\u001b[0m\n",
      "\u001b[0;32m/opt/homebrew/lib/python3.9/site-packages/matplotlib/axes/_base.py\u001b[0m in \u001b[0;36m_plot_args\u001b[0;34m(self, tup, kwargs, return_kwargs)\u001b[0m\n\u001b[1;32m    496\u001b[0m \u001b[0;34m\u001b[0m\u001b[0m\n\u001b[1;32m    497\u001b[0m         \u001b[0;32mif\u001b[0m \u001b[0mx\u001b[0m\u001b[0;34m.\u001b[0m\u001b[0mshape\u001b[0m\u001b[0;34m[\u001b[0m\u001b[0;36m0\u001b[0m\u001b[0;34m]\u001b[0m \u001b[0;34m!=\u001b[0m \u001b[0my\u001b[0m\u001b[0;34m.\u001b[0m\u001b[0mshape\u001b[0m\u001b[0;34m[\u001b[0m\u001b[0;36m0\u001b[0m\u001b[0;34m]\u001b[0m\u001b[0;34m:\u001b[0m\u001b[0;34m\u001b[0m\u001b[0;34m\u001b[0m\u001b[0m\n\u001b[0;32m--> 498\u001b[0;31m             raise ValueError(f\"x and y must have same first dimension, but \"\n\u001b[0m\u001b[1;32m    499\u001b[0m                              f\"have shapes {x.shape} and {y.shape}\")\n\u001b[1;32m    500\u001b[0m         \u001b[0;32mif\u001b[0m \u001b[0mx\u001b[0m\u001b[0;34m.\u001b[0m\u001b[0mndim\u001b[0m \u001b[0;34m>\u001b[0m \u001b[0;36m2\u001b[0m \u001b[0;32mor\u001b[0m \u001b[0my\u001b[0m\u001b[0;34m.\u001b[0m\u001b[0mndim\u001b[0m \u001b[0;34m>\u001b[0m \u001b[0;36m2\u001b[0m\u001b[0;34m:\u001b[0m\u001b[0;34m\u001b[0m\u001b[0;34m\u001b[0m\u001b[0m\n",
      "\u001b[0;31mValueError\u001b[0m: x and y must have same first dimension, but have shapes (973,) and (1,)"
     ]
    },
    {
     "data": {
      "image/png": "[encoded data removed]",
      "text/plain": [
       "<Figure size 432x288 with 1 Axes>"
      ]
     },
     "metadata": {},
     "output_type": "display_data"
    }
   ],
   "source": [
    "predicted_rnaseq = ...\n",
    "# DON'T CHANGE/DELETE ANY OF THE BELOW CODE IN THIS CELL\n",
    "pten[\"Predicted mRNA Expression (RNAseq)\"] = predicted_rnaseq\n",
    "pten[[\"mRNA Expression (Affy)\", \"mRNA Expression (RNAseq)\", \"Predicted mRNA Expression (RNAseq)\"]].plot.scatter(\"mRNA Expression (Affy)\", \"mRNA Expression (RNAseq)\")\n",
    "plt.plot(pten[\"mRNA Expression (Affy)\"], predicted_rnaseq)"
   ]
  },
  {
   "cell_type": "markdown",
   "metadata": {},
   "source": [
    "## Fitting a least-squares regression line"
   ]
  },
  {
   "cell_type": "markdown",
   "metadata": {},
   "source": [
    "Recall that the least-square regression line is the unique straight line that minimizes root mean squared error (RMSE) among all possible fit lines. Using this property, we can find the equation of the regression line by finding the pair of slope and intercept values that minimize root mean squared error."
   ]
  },
  {
   "cell_type": "markdown",
   "metadata": {},
   "source": [
    "**Question 13**\n",
    "\n",
    "Define a function called `RMSE`. It takes in one argument 'params' which is a two-item array. The items are:\n",
    "\n",
    "1. the slope of a line (a number)\n",
    "2. the intercept of a line (a number).\n",
    "\n",
    "It should return a number that is the root mean squared error (RMSE) for a line defined with the arguments slope and intercept used to predict mRNA Expression (RNAseq) values from mRNA Expression (Affy) values for each row in the `pten` table.\n",
    "\n",
    "*Hint: Errors are defined as the difference between the actual `y` values and the predicted `y` values.*\n",
    "\n",
    "*Note: if you need a refresher on RMSE, here's the [link](https://www.inferentialthinking.com/chapters/15/3/Method_of_Least_Squares.html#Root-Mean-Squared-Error) from the textbook*"
   ]
  },
  {
   "cell_type": "code",
   "execution_count": null,
   "metadata": {
    "tags": []
   },
   "outputs": [],
   "source": [
    "def RMSE(params):\n",
    "    slope, intercept = params[0], params[1]\n",
    "    affy = pten[\"mRNA Expression (Affy)\"]\n",
    "    rnaseq = pten[\"mRNA Expression (RNAseq)\"]\n",
    "    predicted_rnaseq = ...\n",
    "    ...\n",
    "\n",
    "# DON'T CHANGE THE FOLLOWING LINES BELOW IN THIS CELL\n",
    "rmse_example = RMSE([0.5, 6])\n",
    "rmse_example"
   ]
  },
  {
   "cell_type": "code",
   "execution_count": null,
   "metadata": {
    "deletable": false,
    "editable": false
   },
   "outputs": [],
   "source": [
    "grader.check(\"q13\")"
   ]
  },
  {
   "cell_type": "markdown",
   "metadata": {},
   "source": [
    "<!-- BEGIN QUESTION -->\n",
    "\n",
    "**Question 14**\n",
    "\n",
    "What is the RMSE of a line with slope 0 and intercept of the mean of `y` equal to?\n",
    "\n",
    "*Hint 1: The line with slope 0 and intercept of mean of `y` is just a straight horizontal line at the mean of `y`*\n",
    "\n",
    "*Hint 2: What does the formula for RMSE become if we input our predicted `y` values in the formula. Try writing it out on paper! It should be a familiar formula.*"
   ]
  },
  {
   "cell_type": "markdown",
   "metadata": {},
   "source": [
    "_Type your answer here, replacing this text._"
   ]
  },
  {
   "cell_type": "markdown",
   "metadata": {},
   "source": [
    "<!-- END QUESTION -->\n",
    "\n",
    "**Question 15**\n",
    "\n",
    "Find the parameters that minimizes RMSE of the regression line for mRNA Expression (Affy) vs. mRNA Expression (RNAseq). Assign the result to `minimized_parameters`.\n",
    "\n",
    "You will have to use the `minimize` [function](https://docs.scipy.org/doc/scipy/reference/generated/scipy.optimize.minimize.html) from the scipy library.\n",
    "\n",
    "*Hint: Use the `RMSE` function in Question 13*"
   ]
  },
  {
   "cell_type": "code",
   "execution_count": null,
   "metadata": {
    "tags": []
   },
   "outputs": [],
   "source": [
    "minimized_parameters = ...\n",
    "list(minimized_parameters[\"x\"])"
   ]
  },
  {
   "cell_type": "code",
   "execution_count": null,
   "metadata": {
    "deletable": false,
    "editable": false
   },
   "outputs": [],
   "source": [
    "grader.check(\"q15\")"
   ]
  },
  {
   "cell_type": "markdown",
   "metadata": {},
   "source": [
    "<!-- BEGIN QUESTION -->\n",
    "\n",
    "**Question 16**\n",
    "\n",
    "The slope and intercept pair you found in Question 15 should be very similar to the values that you found in Question 7. Why were we able to minimize RMSE to find the same slope and intercept from the previous formulas?"
   ]
  },
  {
   "cell_type": "markdown",
   "metadata": {},
   "source": [
    "_Type your answer here, replacing this text._"
   ]
  },
  {
   "cell_type": "markdown",
   "metadata": {},
   "source": [
    "<!-- END QUESTION -->\n",
    "\n",
    "**Question 17**\n",
    "\n",
    "If we had instead minimized mean squared error (MSE), would we have gotten the same slope and intercept of the minimized root mean squared error (RMSE) results? Assign `same_parameters` to either `True` if you think yes, or `False` if you think no."
   ]
  },
  {
   "cell_type": "markdown",
   "metadata": {},
   "source": [
    "_Type your answer here, replacing this text._"
   ]
  },
  {
   "cell_type": "code",
   "execution_count": null,
   "metadata": {
    "tags": []
   },
   "outputs": [],
   "source": [
    "same_parameters = ...\n",
    "same_parameters"
   ]
  },
  {
   "cell_type": "code",
   "execution_count": null,
   "metadata": {
    "deletable": false,
    "editable": false
   },
   "outputs": [],
   "source": [
    "grader.check(\"q17\")"
   ]
  },
  {
   "cell_type": "markdown",
   "metadata": {},
   "source": [
    "<!-- BEGIN QUESTION -->\n",
    "\n",
    "**Question 18**\n",
    "\n",
    "Using a linear regression model, would we be able to obtain accurate predictions for most of the points? Explain why or why not."
   ]
  },
  {
   "cell_type": "markdown",
   "metadata": {},
   "source": [
    "_Type your answer here, replacing this text._"
   ]
  },
  {
   "cell_type": "markdown",
   "metadata": {},
   "source": [
    "<!-- END QUESTION -->\n",
    "\n",
    "**Convert manually graded questions to pdf**\n",
    "\n",
    "Running the following cell will convert the manually graded questions to pdf. "
   ]
  },
  {
   "cell_type": "code",
   "execution_count": null,
   "metadata": {},
   "outputs": [],
   "source": [
    "! otter export -e html \"Assignment0.ipynb\" --filtering"
   ]
  },
  {
   "cell_type": "markdown",
   "metadata": {
    "id": "WKzO0BUS2ZgG"
   },
   "source": [
    "## SUBMISSION INSTRUCTIONS\n",
    "This is the end of Assignment 0.  Be sure to run the tests and verify that they all pass (just because the tests pass does not mean it's the right answer). For submission you need to submit *2 files* on eclass: \n",
    "\n",
    "1- a zip file \"CCID.zip\", this zip file will only include this notebook  \n",
    "2- pdf of the manually graded questions"
   ]
  },
  {
   "cell_type": "markdown",
   "metadata": {
    "id": "_DF9nAJt3-J2"
   },
   "source": [
    "This assignment contains altered snippets from the original [Berkeley data-8 course](http://data8.org/), which is licensed under the [Creative Commons license](https://creativecommons.org/licenses/by-nc/4.0/)."
   ]
  }
 ],
 "metadata": {
  "colab": {
   "collapsed_sections": [],
   "name": "Assignment0.ipynb",
   "provenance": []
  },
  "kernelspec": {
   "display_name": "Python 3",
   "name": "python3"
  },
  "language_info": {
   "codemirror_mode": {
    "name": "ipython",
    "version": 3
   },
   "file_extension": ".py",
   "mimetype": "text/x-python",
   "name": "python",
   "nbconvert_exporter": "python",
   "pygments_lexer": "ipython3",
   "version": "3.9.7"
  },
  "otter": {
   "tests": {
    "q1": {
     "name": "q1",
     "points": null,
     "suites": [
      {
       "cases": [
        {
         "code": ">>> np.isclose(copy_number_mean, -0.19447913669064748)\nTrue",
         "hidden": false,
         "locked": false
        },
        {
         "code": ">>> np.isclose(copy_number_sd, 0.7466239639509008)\nTrue",
         "hidden": false,
         "locked": false
        }
       ],
       "scored": true,
       "setup": "",
       "teardown": "",
       "type": "doctest"
      }
     ]
    },
    "q11": {
     "name": "q11",
     "points": null,
     "suites": [
      {
       "cases": [
        {
         "code": ">>> np.isclose(hela_rnaseq, 2.329061202819438)\nTrue",
         "hidden": false,
         "locked": false
        }
       ],
       "scored": true,
       "setup": "",
       "teardown": "",
       "type": "doctest"
      }
     ]
    },
    "q13": {
     "name": "q13",
     "points": null,
     "suites": [
      {
       "cases": [
        {
         "code": ">>> assert rmse_example == 7.612008179226994\n",
         "hidden": false,
         "locked": false
        }
       ],
       "scored": true,
       "setup": "",
       "teardown": "",
       "type": "doctest"
      }
     ]
    },
    "q15": {
     "name": "q15",
     "points": null,
     "suites": [
      {
       "cases": [
        {
         "code": ">>> assert list(minimized_parameters[\"x\"]) == [1.0711393042984476, -6.454280983212097]\n",
         "hidden": false,
         "locked": false
        }
       ],
       "scored": true,
       "setup": "",
       "teardown": "",
       "type": "doctest"
      }
     ]
    },
    "q17": {
     "name": "q17",
     "points": null,
     "suites": [
      {
       "cases": [],
       "scored": true,
       "setup": "",
       "teardown": "",
       "type": "doctest"
      }
     ]
    },
    "q2": {
     "name": "q2",
     "points": null,
     "suites": [
      {
       "cases": [
        {
         "code": ">>> assert standard_units(pten[\"Copy Number\"][0:10]) == [0.7856671414279968, 0.8056146080509384, 0.33630113508700193, 0.5821372209950144, -0.6107651236428848, -1.736372168794596, 0.5038817750127046, 0.6086607755156291, 0.47067253112945545, -1.7457978947812607]\n",
         "hidden": false,
         "locked": false
        }
       ],
       "scored": true,
       "setup": "",
       "teardown": "",
       "type": "doctest"
      }
     ]
    },
    "q3": {
     "name": "q3",
     "points": null,
     "suites": [
      {
       "cases": [],
       "scored": true,
       "setup": "",
       "teardown": "",
       "type": "doctest"
      }
     ]
    },
    "q4": {
     "name": "q4",
     "points": null,
     "suites": [
      {
       "cases": [
        {
         "code": ">>> assert copy_affy == 0.5813535649557299\n",
         "hidden": false,
         "locked": false
        }
       ],
       "scored": true,
       "setup": "",
       "teardown": "",
       "type": "doctest"
      }
     ]
    },
    "q5": {
     "name": "q5",
     "points": null,
     "suites": [
      {
       "cases": [],
       "scored": true,
       "setup": "",
       "teardown": "",
       "type": "doctest"
      }
     ]
    },
    "q7": {
     "name": "q7",
     "points": null,
     "suites": [
      {
       "cases": [
        {
         "code": ">>> assert regression_parameters(pten[\"mRNA Expression (Affy)\"], pten[\"mRNA Expression (RNAseq)\"]) == [1.0711396405744356, -6.454283849890932]\n",
         "hidden": false,
         "locked": false
        }
       ],
       "scored": true,
       "setup": "",
       "teardown": "",
       "type": "doctest"
      }
     ]
    },
    "q8": {
     "name": "q8",
     "points": null,
     "suites": [
      {
       "cases": [],
       "scored": true,
       "setup": "",
       "teardown": "",
       "type": "doctest"
      }
     ]
    },
    "q9": {
     "name": "q9",
     "points": null,
     "suites": [
      {
       "cases": [
        {
         "code": ">>> assert parameters_su == [0.9000764746535065, 1.648472490521448e-16]\n",
         "hidden": false,
         "locked": false
        }
       ],
       "scored": true,
       "setup": "",
       "teardown": "",
       "type": "doctest"
      }
     ]
    }
   }
  }
 },
 "nbformat": 4,
 "nbformat_minor": 0
}
